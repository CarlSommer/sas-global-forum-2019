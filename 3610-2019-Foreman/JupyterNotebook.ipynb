{
 "cells": [
  {
   "cell_type": "markdown",
   "metadata": {},
   "source": [
    "# SWAT's it all about? SAS Viya for Python Users"
   ]
  },
  {
   "cell_type": "markdown",
   "metadata": {},
   "source": [
    "## Importing Packages into Jupyter"
   ]
  },
  {
   "cell_type": "markdown",
   "metadata": {},
   "source": [
    "First we need to import the SWAT Python package to give us access to the functionality it provides."
   ]
  },
  {
   "cell_type": "code",
   "execution_count": 2,
   "metadata": {
    "collapsed": true
   },
   "outputs": [],
   "source": [
    "import swat"
   ]
  },
  {
   "cell_type": "markdown",
   "metadata": {},
   "source": [
    "To gain the full functionality provided by SWAT we need to import the required packages of pandas and matplotlib into the Python session."
   ]
  },
  {
   "cell_type": "code",
   "execution_count": 3,
   "metadata": {
    "collapsed": true
   },
   "outputs": [],
   "source": [
    "import pandas as pd\n",
    "import matplotlib.pyplot as plt"
   ]
  },
  {
   "cell_type": "markdown",
   "metadata": {},
   "source": [
    "## Run a connection statement to connect to SAS Viya."
   ]
  },
  {
   "cell_type": "markdown",
   "metadata": {},
   "source": [
    "Option 1: Use Python environment variables to prevent plain text passwords being displayed within code.  Each of these Python variables can be set within the SWAT configuration:"
   ]
  },
  {
   "cell_type": "code",
   "execution_count": 4,
   "metadata": {
    "collapsed": false
   },
   "outputs": [],
   "source": [
    "sess = swat.CAS(cashost, casport, user, password)"
   ]
  },
  {
   "cell_type": "markdown",
   "metadata": {},
   "source": [
    "Option 2: For a quick test, the values can be directly typed into the connection statement:"
   ]
  },
  {
   "cell_type": "code",
   "execution_count": null,
   "metadata": {
    "collapsed": true
   },
   "outputs": [],
   "source": [
    "sess = swat.CAS('sas.server.com', 5570, 'myuser', 'mypassword')"
   ]
  },
  {
   "cell_type": "markdown",
   "metadata": {},
   "source": [
    "To verify that a connection has been made the serverstatus method gives information about the current server details."
   ]
  },
  {
   "cell_type": "code",
   "execution_count": 5,
   "metadata": {
    "collapsed": false
   },
   "outputs": [
    {
     "name": "stdout",
     "output_type": "stream",
     "text": [
      "NOTE: Grid node action status report: 1 nodes, 8 total actions executed.\n"
     ]
    },
    {
     "data": {
      "text/html": [
       "<div class=\"cas-results-key\"><b>&#167; About</b></div>\n",
       "<div class=\"cas-results-body\">\n",
       "<div>{'CAS': 'Cloud Analytic Services', 'Version': '3.04', 'VersionLong': 'V.03.04M0P07112018', 'Copyright': 'Copyright © 2014-2018 SAS Institute Inc. All Rights Reserved.', 'ServerTime': '2019-03-26T15:35:58Z', 'System': {'Hostname': 'sasserver', 'OS Name': 'Linux', 'OS Family': 'LIN X64', 'OS Release': '2.6.32-696.18.7.el6.x86_64', 'OS Version': '#1 SMP Thu Jan 4 17:31:22 UTC 2018', 'Model Number': 'x86_64', 'Linux Distribution': 'CentOS release 6.9 (Final)'}, 'license': {'site': 'DEMOCENTER EEC-TRIAL-FULL 8.3.1', 'siteNum': 70180938, 'expires': '11Oct2019:00:00:00', 'gracePeriod': 45, 'warningPeriod': 45, 'maxCPUs': 9999}}</div>\n",
       "</div>\n",
       "<div class=\"cas-results-key\"><hr/><b>&#167; server</b></div>\n",
       "<div class=\"cas-results-body\">\n",
       "<div>\n",
       "<table border=\"1\" class=\"dataframe\"><caption>Server Status</caption>\n",
       "  <thead>\n",
       "    <tr style=\"text-align: right;\">\n",
       "      <th title=\"\"></th>\n",
       "      <th title=\"Node Count\">nodes</th>\n",
       "      <th title=\"Total Actions\">actions</th>\n",
       "    </tr>\n",
       "  </thead>\n",
       "  <tbody>\n",
       "    <tr>\n",
       "      <th>0</th>\n",
       "      <td>1</td>\n",
       "      <td>8</td>\n",
       "    </tr>\n",
       "  </tbody>\n",
       "</table>\n",
       "</div>\n",
       "</div>\n",
       "<div class=\"cas-results-key\"><hr/><b>&#167; nodestatus</b></div>\n",
       "<div class=\"cas-results-body\">\n",
       "<div>\n",
       "<table border=\"1\" class=\"dataframe\"><caption>Node Status</caption>\n",
       "  <thead>\n",
       "    <tr style=\"text-align: right;\">\n",
       "      <th title=\"\"></th>\n",
       "      <th title=\"Node Name\">name</th>\n",
       "      <th title=\"Role\">role</th>\n",
       "      <th title=\"Uptime (Sec)\">uptime</th>\n",
       "      <th title=\"Running\">running</th>\n",
       "      <th title=\"Stalled\">stalled</th>\n",
       "    </tr>\n",
       "  </thead>\n",
       "  <tbody>\n",
       "    <tr>\n",
       "      <th>0</th>\n",
       "      <td>sasserver.demo.sas.com</td>\n",
       "      <td>controller</td>\n",
       "      <td>3.615</td>\n",
       "      <td>0</td>\n",
       "      <td>0</td>\n",
       "    </tr>\n",
       "  </tbody>\n",
       "</table>\n",
       "</div>\n",
       "</div>\n",
       "<div class=\"cas-output-area\"></div>\n",
       "<p class=\"cas-results-performance\"><small><span class=\"cas-elapsed\">elapsed 0.001s</span> &#183; <span class=\"cas-sys\">sys 0.001s</span> &#183; <span class=\"cas-memory\">mem 0.295MB</span></small></p>"
      ],
      "text/plain": [
       "[About]\n",
       "\n",
       " {'CAS': 'Cloud Analytic Services',\n",
       "  'Copyright': 'Copyright © 2014-2018 SAS Institute Inc. All Rights Reserved.',\n",
       "  'ServerTime': '2019-03-26T15:35:58Z',\n",
       "  'System': {'Hostname': 'sasserver',\n",
       "   'Linux Distribution': 'CentOS release 6.9 (Final)',\n",
       "   'Model Number': 'x86_64',\n",
       "   'OS Family': 'LIN X64',\n",
       "   'OS Name': 'Linux',\n",
       "   'OS Release': '2.6.32-696.18.7.el6.x86_64',\n",
       "   'OS Version': '#1 SMP Thu Jan 4 17:31:22 UTC 2018'},\n",
       "  'Version': '3.04',\n",
       "  'VersionLong': 'V.03.04M0P07112018',\n",
       "  'license': {'expires': '11Oct2019:00:00:00',\n",
       "   'gracePeriod': 45,\n",
       "   'maxCPUs': 9999,\n",
       "   'site': 'DEMOCENTER EEC-TRIAL-FULL 8.3.1',\n",
       "   'siteNum': 70180938,\n",
       "   'warningPeriod': 45}}\n",
       "\n",
       "[server]\n",
       "\n",
       " Server Status\n",
       " \n",
       "    nodes  actions\n",
       " 0      1        8\n",
       "\n",
       "[nodestatus]\n",
       "\n",
       " Node Status\n",
       " \n",
       "                      name        role  uptime  running  stalled\n",
       " 0  sasserver.demo.sas.com  controller   3.615        0        0\n",
       "\n",
       "+ Elapsed: 0.001s, sys: 0.001s, mem: 0.295mb"
      ]
     },
     "execution_count": 5,
     "metadata": {},
     "output_type": "execute_result"
    }
   ],
   "source": [
    "sess.serverstatus()"
   ]
  },
  {
   "cell_type": "markdown",
   "metadata": {},
   "source": [
    "# Load a CAS Action set"
   ]
  },
  {
   "cell_type": "markdown",
   "metadata": {},
   "source": [
    "SWAT enables Python users to gain access to some pre-loaded CAS action sets.  It is also possible to load additional action sets into the Python session to gain access to their functionality.  The ‘simple’ CAS action set gives access to the Python methods summary, frequencies and crosstabs.  "
   ]
  },
  {
   "cell_type": "code",
   "execution_count": 6,
   "metadata": {
    "collapsed": false
   },
   "outputs": [
    {
     "name": "stdout",
     "output_type": "stream",
     "text": [
      "NOTE: Added action set 'simple'.\n"
     ]
    },
    {
     "data": {
      "text/html": [
       "<div class=\"cas-results-key\"><b>&#167; actionset</b></div>\n",
       "<div class=\"cas-results-body\">\n",
       "<div>simple</div>\n",
       "</div>\n",
       "<div class=\"cas-output-area\"></div>\n",
       "<p class=\"cas-results-performance\"><small><span class=\"cas-elapsed\">elapsed 0.000483s</span> &#183; <span class=\"cas-memory\">mem 0.194MB</span></small></p>"
      ],
      "text/plain": [
       "[actionset]\n",
       "\n",
       " 'simple'\n",
       "\n",
       "+ Elapsed: 0.000483s, mem: 0.194mb"
      ]
     },
     "execution_count": 6,
     "metadata": {},
     "output_type": "execute_result"
    }
   ],
   "source": [
    "sess.loadactionset(actionset='simple')"
   ]
  },
  {
   "cell_type": "markdown",
   "metadata": {},
   "source": [
    "# Upload some data"
   ]
  },
  {
   "cell_type": "markdown",
   "metadata": {},
   "source": [
    "Load the CSV file from a location on the SAS Viya server into a private CAS library."
   ]
  },
  {
   "cell_type": "code",
   "execution_count": 7,
   "metadata": {
    "collapsed": false
   },
   "outputs": [
    {
     "name": "stdout",
     "output_type": "stream",
     "text": [
      "NOTE: Cloud Analytic Services made the uploaded file available as table STUDENTSPERFORMANCE in caslib CASUSER(carrie.foreman@amadeus.co.uk).\n",
      "NOTE: The table STUDENTSPERFORMANCE has been created in caslib CASUSER(carrie.foreman@amadeus.co.uk) from binary data uploaded to Cloud Analytic Services.\n"
     ]
    }
   ],
   "source": [
    "castbl = sess.upload_file(data='/home/carrie.foreman/Jupyter_Saved_Work/StudentsPerformance.csv', \n",
    "                          casout=dict(name='StudentsPerformance', caslib='casuser'))"
   ]
  },
  {
   "cell_type": "markdown",
   "metadata": {},
   "source": [
    "These quick cleaning steps are not essential and are used to simplify the data only."
   ]
  },
  {
   "cell_type": "code",
   "execution_count": 8,
   "metadata": {
    "collapsed": false
   },
   "outputs": [
    {
     "data": {
      "text/plain": [
       "CASColumn('STUDENTSPERFORMANCE', caslib='CASUSER(carrie.foreman@amadeus.co.uk)')['test preparation course']"
      ]
     },
     "execution_count": 8,
     "metadata": {},
     "output_type": "execute_result"
    }
   ],
   "source": [
    "castbl[\"gender\"].replace(\"male\",\"M\",inplace=True)\n",
    "castbl[\"gender\"].replace(\"female\",\"F\",inplace=True)\n",
    "castbl[\"test preparation course\"].replace(\"completed\",1,inplace=True)\n",
    "castbl[\"test preparation course\"].replace(\"none\",0,inplace=True)"
   ]
  },
  {
   "cell_type": "markdown",
   "metadata": {},
   "source": [
    "View the data that has been loaded into CAS."
   ]
  },
  {
   "cell_type": "code",
   "execution_count": 9,
   "metadata": {
    "collapsed": false
   },
   "outputs": [
    {
     "data": {
      "text/html": [
       "<div>\n",
       "<table border=\"1\" class=\"dataframe\"><caption>Selected Rows from Table STUDENTSPERFORMANCE</caption>\n",
       "  <thead>\n",
       "    <tr style=\"text-align: right;\">\n",
       "      <th title=\"\"></th>\n",
       "      <th title=\"gender\">gender</th>\n",
       "      <th title=\"race/ethnicity\">race/ethnicity</th>\n",
       "      <th title=\"parental level of education\">parental level of education</th>\n",
       "      <th title=\"lunch\">lunch</th>\n",
       "      <th title=\"test preparation course\">test preparation course</th>\n",
       "      <th title=\"math score\">math score</th>\n",
       "      <th title=\"reading score\">reading score</th>\n",
       "      <th title=\"writing score\">writing score</th>\n",
       "    </tr>\n",
       "  </thead>\n",
       "  <tbody>\n",
       "    <tr>\n",
       "      <th>0</th>\n",
       "      <td>F</td>\n",
       "      <td>group B</td>\n",
       "      <td>bachelor's degree</td>\n",
       "      <td>standard</td>\n",
       "      <td>0</td>\n",
       "      <td>72.0</td>\n",
       "      <td>72.0</td>\n",
       "      <td>74.0</td>\n",
       "    </tr>\n",
       "    <tr>\n",
       "      <th>1</th>\n",
       "      <td>F</td>\n",
       "      <td>group C</td>\n",
       "      <td>some college</td>\n",
       "      <td>standard</td>\n",
       "      <td>1</td>\n",
       "      <td>69.0</td>\n",
       "      <td>90.0</td>\n",
       "      <td>88.0</td>\n",
       "    </tr>\n",
       "    <tr>\n",
       "      <th>2</th>\n",
       "      <td>F</td>\n",
       "      <td>group B</td>\n",
       "      <td>master's degree</td>\n",
       "      <td>standard</td>\n",
       "      <td>0</td>\n",
       "      <td>90.0</td>\n",
       "      <td>95.0</td>\n",
       "      <td>NaN</td>\n",
       "    </tr>\n",
       "    <tr>\n",
       "      <th>3</th>\n",
       "      <td>M</td>\n",
       "      <td>group A</td>\n",
       "      <td>associate's degree</td>\n",
       "      <td>free/reduced</td>\n",
       "      <td>0</td>\n",
       "      <td>47.0</td>\n",
       "      <td>57.0</td>\n",
       "      <td>44.0</td>\n",
       "    </tr>\n",
       "    <tr>\n",
       "      <th>4</th>\n",
       "      <td>M</td>\n",
       "      <td>group C</td>\n",
       "      <td>some college</td>\n",
       "      <td>standard</td>\n",
       "      <td>0</td>\n",
       "      <td>76.0</td>\n",
       "      <td>78.0</td>\n",
       "      <td>75.0</td>\n",
       "    </tr>\n",
       "    <tr>\n",
       "      <th>5</th>\n",
       "      <td>F</td>\n",
       "      <td>group B</td>\n",
       "      <td>associate's degree</td>\n",
       "      <td>standard</td>\n",
       "      <td>0</td>\n",
       "      <td>71.0</td>\n",
       "      <td>83.0</td>\n",
       "      <td>78.0</td>\n",
       "    </tr>\n",
       "    <tr>\n",
       "      <th>6</th>\n",
       "      <td>F</td>\n",
       "      <td>group B</td>\n",
       "      <td>some college</td>\n",
       "      <td>standard</td>\n",
       "      <td>1</td>\n",
       "      <td>88.0</td>\n",
       "      <td>95.0</td>\n",
       "      <td>92.0</td>\n",
       "    </tr>\n",
       "    <tr>\n",
       "      <th>7</th>\n",
       "      <td>M</td>\n",
       "      <td>group B</td>\n",
       "      <td>some college</td>\n",
       "      <td>free/reduced</td>\n",
       "      <td>0</td>\n",
       "      <td>40.0</td>\n",
       "      <td>43.0</td>\n",
       "      <td>39.0</td>\n",
       "    </tr>\n",
       "    <tr>\n",
       "      <th>8</th>\n",
       "      <td>M</td>\n",
       "      <td>group D</td>\n",
       "      <td>high school</td>\n",
       "      <td>free/reduced</td>\n",
       "      <td>1</td>\n",
       "      <td>64.0</td>\n",
       "      <td>64.0</td>\n",
       "      <td>67.0</td>\n",
       "    </tr>\n",
       "    <tr>\n",
       "      <th>9</th>\n",
       "      <td>F</td>\n",
       "      <td>group B</td>\n",
       "      <td>high school</td>\n",
       "      <td>free/reduced</td>\n",
       "      <td>0</td>\n",
       "      <td>38.0</td>\n",
       "      <td>60.0</td>\n",
       "      <td>50.0</td>\n",
       "    </tr>\n",
       "  </tbody>\n",
       "</table>\n",
       "</div>"
      ],
      "text/plain": [
       "Selected Rows from Table STUDENTSPERFORMANCE\n",
       "\n",
       "  gender race/ethnicity parental level of education         lunch  \\\n",
       "0      F        group B           bachelor's degree      standard   \n",
       "1      F        group C                some college      standard   \n",
       "2      F        group B             master's degree      standard   \n",
       "3      M        group A          associate's degree  free/reduced   \n",
       "4      M        group C                some college      standard   \n",
       "5      F        group B          associate's degree      standard   \n",
       "6      F        group B                some college      standard   \n",
       "7      M        group B                some college  free/reduced   \n",
       "8      M        group D                 high school  free/reduced   \n",
       "9      F        group B                 high school  free/reduced   \n",
       "\n",
       "  test preparation course  math score  reading score  writing score  \n",
       "0                       0        72.0           72.0           74.0  \n",
       "1                       1        69.0           90.0           88.0  \n",
       "2                       0        90.0           95.0            NaN  \n",
       "3                       0        47.0           57.0           44.0  \n",
       "4                       0        76.0           78.0           75.0  \n",
       "5                       0        71.0           83.0           78.0  \n",
       "6                       1        88.0           95.0           92.0  \n",
       "7                       0        40.0           43.0           39.0  \n",
       "8                       1        64.0           64.0           67.0  \n",
       "9                       0        38.0           60.0           50.0  "
      ]
     },
     "execution_count": 9,
     "metadata": {},
     "output_type": "execute_result"
    }
   ],
   "source": [
    "castbl.head(10)"
   ]
  },
  {
   "cell_type": "markdown",
   "metadata": {},
   "source": [
    "# Exploration"
   ]
  },
  {
   "cell_type": "markdown",
   "metadata": {},
   "source": [
    "To perform an initial data exploration, Python contains many packages and libraries with different capabilities.  In this section, SWAT will be used to explore the data.  SWAT can be used to create visualizations of the data to view any distributions which may be present.  "
   ]
  },
  {
   "cell_type": "markdown",
   "metadata": {},
   "source": [
    "## Histograms"
   ]
  },
  {
   "cell_type": "markdown",
   "metadata": {},
   "source": [
    "Histograms are a great way to view the distribution of any numeric variables within a data set.  They can be used to identify any issues or outliers in the data.  To create a histogram of all numeric variables within the CAS table the Python hist method can be used.  "
   ]
  },
  {
   "cell_type": "code",
   "execution_count": 10,
   "metadata": {
    "collapsed": false,
    "scrolled": false
   },
   "outputs": [
    {
     "data": {
      "image/png": "[encoded data removed]",
      "text/plain": [
       "<matplotlib.figure.Figure at 0x7ff5b263f588>"
      ]
     },
     "metadata": {},
     "output_type": "display_data"
    }
   ],
   "source": [
    "castbl.hist(figsize=(10,10))\n",
    "plt.show()"
   ]
  },
  {
   "cell_type": "markdown",
   "metadata": {},
   "source": [
    "## Identifying Missing Values"
   ]
  },
  {
   "cell_type": "markdown",
   "metadata": {},
   "source": [
    "Missing values can cause issues with some data visualization techniques or data science models.  To prevent this, it is important that a programmer addresses these issues during the data manipulation stage.  Within Python, the info method can be used to provide information on the CAS table.  This includes information on whether missing values are present for each variable.  "
   ]
  },
  {
   "cell_type": "code",
   "execution_count": 11,
   "metadata": {
    "collapsed": false
   },
   "outputs": [
    {
     "name": "stdout",
     "output_type": "stream",
     "text": [
      "CASTable('STUDENTSPERFORMANCE', caslib='CASUSER(carrie.foreman@amadeus.co.uk)')\n",
      "Data columns (total 8 columns):\n",
      "                                N   Miss     Type\n",
      "gender                       1000  False  varchar\n",
      "race/ethnicity               1000  False  varchar\n",
      "parental level of education  1000  False  varchar\n",
      "lunch                        1000  False  varchar\n",
      "test preparation course      1000  False  varchar\n",
      "math score                   1000  False   double\n",
      "reading score                 994   True   double\n",
      "writing score                 978   True   double\n",
      "dtypes: double(3), varchar(5)\n",
      "data size: 137039\n",
      "vardata size: 33039\n",
      "memory usage: 137072\n"
     ]
    }
   ],
   "source": [
    "castbl.info()"
   ]
  },
  {
   "cell_type": "markdown",
   "metadata": {},
   "source": [
    "# Data Manipulation"
   ]
  },
  {
   "cell_type": "markdown",
   "metadata": {},
   "source": [
    "Once the data has been explored and issues have been identified, we need to rectify these.  This can be completed during the data manipulation stage."
   ]
  },
  {
   "cell_type": "markdown",
   "metadata": {},
   "source": [
    "## Modifying Incorrect Data"
   ]
  },
  {
   "cell_type": "markdown",
   "metadata": {},
   "source": [
    "In the exploration stage, we identified than an individual had scored approximately 120 in their reading exam.  We first need to identify the observation where this score has been recorded.  To identify this the head method can be used on a subset of the CAS Table.  "
   ]
  },
  {
   "cell_type": "code",
   "execution_count": 12,
   "metadata": {
    "collapsed": false
   },
   "outputs": [
    {
     "data": {
      "text/html": [
       "<div>\n",
       "<table border=\"1\" class=\"dataframe\"><caption>Selected Rows from Table STUDENTSPERFORMANCE</caption>\n",
       "  <thead>\n",
       "    <tr style=\"text-align: right;\">\n",
       "      <th title=\"\"></th>\n",
       "      <th title=\"gender\">gender</th>\n",
       "      <th title=\"race/ethnicity\">race/ethnicity</th>\n",
       "      <th title=\"parental level of education\">parental level of education</th>\n",
       "      <th title=\"lunch\">lunch</th>\n",
       "      <th title=\"test preparation course\">test preparation course</th>\n",
       "      <th title=\"math score\">math score</th>\n",
       "      <th title=\"reading score\">reading score</th>\n",
       "      <th title=\"writing score\">writing score</th>\n",
       "    </tr>\n",
       "  </thead>\n",
       "  <tbody>\n",
       "    <tr>\n",
       "      <th>0</th>\n",
       "      <td>F</td>\n",
       "      <td>group B</td>\n",
       "      <td>master's degree</td>\n",
       "      <td>free/reduced</td>\n",
       "      <td>1</td>\n",
       "      <td>77.0</td>\n",
       "      <td>120.0</td>\n",
       "      <td>94.0</td>\n",
       "    </tr>\n",
       "  </tbody>\n",
       "</table>\n",
       "</div>"
      ],
      "text/plain": [
       "Selected Rows from Table STUDENTSPERFORMANCE\n",
       "\n",
       "  gender race/ethnicity parental level of education         lunch  \\\n",
       "0      F        group B             master's degree  free/reduced   \n",
       "\n",
       "  test preparation course  math score  reading score  writing score  \n",
       "0                       1        77.0          120.0           94.0  "
      ]
     },
     "execution_count": 12,
     "metadata": {},
     "output_type": "execute_result"
    }
   ],
   "source": [
    "castbl[castbl['reading score']>100].head()"
   ]
  },
  {
   "cell_type": "markdown",
   "metadata": {},
   "source": [
    "Once the observation has been identified, we need to decide what we would like to do with this outlier.  There are many ways of dealing with outliers including replacing the value or removing the observation.  For this record we will temporarily replace the value of the reading score to a null value, which will be handled in the next section."
   ]
  },
  {
   "cell_type": "code",
   "execution_count": 13,
   "metadata": {
    "collapsed": false
   },
   "outputs": [
    {
     "data": {
      "text/plain": [
       "CASColumn('STUDENTSPERFORMANCE', caslib='CASUSER(carrie.foreman@amadeus.co.uk)')['reading score']"
      ]
     },
     "execution_count": 13,
     "metadata": {},
     "output_type": "execute_result"
    }
   ],
   "source": [
    "castbl['reading score'].replace(120, pd.np.nan, inplace=True)"
   ]
  },
  {
   "cell_type": "markdown",
   "metadata": {},
   "source": [
    "We then need to check that the incorrect data has been removed."
   ]
  },
  {
   "cell_type": "code",
   "execution_count": 14,
   "metadata": {
    "collapsed": false
   },
   "outputs": [
    {
     "data": {
      "text/html": [
       "<div>\n",
       "<table border=\"1\" class=\"dataframe\"><caption>Selected Rows from Table STUDENTSPERFORMANCE</caption>\n",
       "  <thead>\n",
       "    <tr style=\"text-align: right;\">\n",
       "      <th title=\"\"></th>\n",
       "      <th title=\"gender\">gender</th>\n",
       "      <th title=\"race/ethnicity\">race/ethnicity</th>\n",
       "      <th title=\"parental level of education\">parental level of education</th>\n",
       "      <th title=\"lunch\">lunch</th>\n",
       "      <th title=\"test preparation course\">test preparation course</th>\n",
       "      <th title=\"math score\">math score</th>\n",
       "      <th title=\"reading score\">reading score</th>\n",
       "      <th title=\"writing score\">writing score</th>\n",
       "      <th title=\"nan\">nan</th>\n",
       "    </tr>\n",
       "  </thead>\n",
       "  <tbody>\n",
       "  </tbody>\n",
       "</table>\n",
       "</div>"
      ],
      "text/plain": [
       "Selected Rows from Table STUDENTSPERFORMANCE\n",
       "\n",
       "Empty DataFrame\n",
       "Columns: [gender, race/ethnicity, parental level of education, lunch, test preparation course, math score, reading score, writing score, nan]\n",
       "Index: []"
      ]
     },
     "execution_count": 14,
     "metadata": {},
     "output_type": "execute_result"
    }
   ],
   "source": [
    "castbl[castbl['reading score']>100].head()"
   ]
  },
  {
   "cell_type": "markdown",
   "metadata": {},
   "source": [
    "# Imputing Missing Values"
   ]
  },
  {
   "cell_type": "markdown",
   "metadata": {},
   "source": [
    "Many Python methods are available to remove, replace or impute missing values within the data set.  In this example, we would like to impute any missing values within the CAS table using the median value.  "
   ]
  },
  {
   "cell_type": "code",
   "execution_count": 15,
   "metadata": {
    "collapsed": false
   },
   "outputs": [],
   "source": [
    "castbl.fillna(castbl.median(), inplace=True)"
   ]
  },
  {
   "cell_type": "markdown",
   "metadata": {},
   "source": [
    "To verify that this has taken effect we can run the info method on the CAS table."
   ]
  },
  {
   "cell_type": "code",
   "execution_count": 16,
   "metadata": {
    "collapsed": false
   },
   "outputs": [
    {
     "name": "stdout",
     "output_type": "stream",
     "text": [
      "CASTable('STUDENTSPERFORMANCE', caslib='CASUSER(carrie.foreman@amadeus.co.uk)')\n",
      "Data columns (total 9 columns):\n",
      "                                N   Miss     Type\n",
      "gender                       1000  False  varchar\n",
      "race/ethnicity               1000  False  varchar\n",
      "parental level of education  1000  False  varchar\n",
      "lunch                        1000  False  varchar\n",
      "test preparation course      1000  False  varchar\n",
      "math score                   1000  False   double\n",
      "reading score                1000  False   double\n",
      "writing score                1000  False   double\n",
      "nan                             0   True   double\n",
      "dtypes: double(4), varchar(5)\n",
      "data size: 145039\n",
      "vardata size: 33039\n",
      "memory usage: 145072\n"
     ]
    }
   ],
   "source": [
    "castbl.info()"
   ]
  },
  {
   "cell_type": "markdown",
   "metadata": {},
   "source": [
    "# Combining Categories"
   ]
  },
  {
   "cell_type": "markdown",
   "metadata": {},
   "source": [
    "The parental level of education variable contains six categories.  The users have identified that the category “Some high school” was a mistake and should be combined with the “High school” category.  To view a list of the categories which are included within the CAS table the summary method can be used.  Adding a groupby option allows us to view statistics for each category which is present within the CAS table."
   ]
  },
  {
   "cell_type": "code",
   "execution_count": 17,
   "metadata": {
    "collapsed": false
   },
   "outputs": [
    {
     "data": {
      "text/html": [
       "<div class=\"cas-results-key\"><b>&#167; Summary</b></div>\n",
       "<div class=\"cas-results-body\">\n",
       "<div>\n",
       "<table border=\"1\" class=\"dataframe\"><caption>Descriptive Statistics for STUDENTSPERFORMANCE</caption>\n",
       "  <thead>\n",
       "    <tr style=\"text-align: right;\">\n",
       "      <th title=\"\"></th>\n",
       "      <th title=\"Analysis Variable\">Column</th>\n",
       "      <th title=\"N\">N</th>\n",
       "    </tr>\n",
       "    <tr>\n",
       "      <th title=\"parental level of education\">parental level of education</th>\n",
       "      <th title=\"\"></th>\n",
       "      <th title=\"\"></th>\n",
       "    </tr>\n",
       "  </thead>\n",
       "  <tbody>\n",
       "    <tr>\n",
       "      <th>associate's degree</th>\n",
       "      <td>math score</td>\n",
       "      <td>222.0</td>\n",
       "    </tr>\n",
       "    <tr>\n",
       "      <th>bachelor's degree</th>\n",
       "      <td>math score</td>\n",
       "      <td>118.0</td>\n",
       "    </tr>\n",
       "    <tr>\n",
       "      <th>high school</th>\n",
       "      <td>math score</td>\n",
       "      <td>196.0</td>\n",
       "    </tr>\n",
       "    <tr>\n",
       "      <th>master's degree</th>\n",
       "      <td>math score</td>\n",
       "      <td>59.0</td>\n",
       "    </tr>\n",
       "    <tr>\n",
       "      <th>some college</th>\n",
       "      <td>math score</td>\n",
       "      <td>226.0</td>\n",
       "    </tr>\n",
       "    <tr>\n",
       "      <th>some high school</th>\n",
       "      <td>math score</td>\n",
       "      <td>179.0</td>\n",
       "    </tr>\n",
       "  </tbody>\n",
       "</table>\n",
       "</div>\n",
       "</div>\n",
       "<div class=\"cas-output-area\"></div>"
      ],
      "text/plain": [
       "[Summary]\n",
       "\n",
       " Descriptive Statistics for STUDENTSPERFORMANCE\n",
       " \n",
       "                                  Column      N\n",
       " parental level of education                   \n",
       " associate's degree           math score  222.0\n",
       " bachelor's degree            math score  118.0\n",
       " high school                  math score  196.0\n",
       " master's degree              math score   59.0\n",
       " some college                 math score  226.0\n",
       " some high school             math score  179.0\n",
       "\n"
      ]
     },
     "execution_count": 17,
     "metadata": {},
     "output_type": "execute_result"
    }
   ],
   "source": [
    "castbl['math score'].groupby(['parental level of education']).summary(subset=['n']).concat_bygroups()"
   ]
  },
  {
   "cell_type": "markdown",
   "metadata": {},
   "source": [
    "The output shows that 196 students have a parent categorized as ‘high school’, and 179 students have ‘some high school’ which need to be combined.  This can be completed within Python code using a replace method on the column parental level of education.  "
   ]
  },
  {
   "cell_type": "code",
   "execution_count": 18,
   "metadata": {
    "collapsed": false
   },
   "outputs": [
    {
     "data": {
      "text/plain": [
       "CASColumn('STUDENTSPERFORMANCE', caslib='CASUSER(carrie.foreman@amadeus.co.uk)')['parental level of education']"
      ]
     },
     "execution_count": 18,
     "metadata": {},
     "output_type": "execute_result"
    }
   ],
   "source": [
    "castbl['parental level of education'].replace('some high school', 'high school', inplace=True)"
   ]
  },
  {
   "cell_type": "markdown",
   "metadata": {},
   "source": [
    "Check that the category has been replaced."
   ]
  },
  {
   "cell_type": "code",
   "execution_count": 19,
   "metadata": {
    "collapsed": false
   },
   "outputs": [
    {
     "data": {
      "text/html": [
       "<div class=\"cas-results-key\"><b>&#167; Summary</b></div>\n",
       "<div class=\"cas-results-body\">\n",
       "<div>\n",
       "<table border=\"1\" class=\"dataframe\"><caption>Descriptive Statistics for STUDENTSPERFORMANCE</caption>\n",
       "  <thead>\n",
       "    <tr style=\"text-align: right;\">\n",
       "      <th title=\"\"></th>\n",
       "      <th title=\"Analysis Variable\">Column</th>\n",
       "      <th title=\"N\">N</th>\n",
       "    </tr>\n",
       "    <tr>\n",
       "      <th title=\"parental level of education\">parental level of education</th>\n",
       "      <th title=\"\"></th>\n",
       "      <th title=\"\"></th>\n",
       "    </tr>\n",
       "  </thead>\n",
       "  <tbody>\n",
       "    <tr>\n",
       "      <th>associate's degree</th>\n",
       "      <td>math score</td>\n",
       "      <td>222.0</td>\n",
       "    </tr>\n",
       "    <tr>\n",
       "      <th>bachelor's degree</th>\n",
       "      <td>math score</td>\n",
       "      <td>118.0</td>\n",
       "    </tr>\n",
       "    <tr>\n",
       "      <th>high school</th>\n",
       "      <td>math score</td>\n",
       "      <td>375.0</td>\n",
       "    </tr>\n",
       "    <tr>\n",
       "      <th>master's degree</th>\n",
       "      <td>math score</td>\n",
       "      <td>59.0</td>\n",
       "    </tr>\n",
       "    <tr>\n",
       "      <th>some college</th>\n",
       "      <td>math score</td>\n",
       "      <td>226.0</td>\n",
       "    </tr>\n",
       "  </tbody>\n",
       "</table>\n",
       "</div>\n",
       "</div>\n",
       "<div class=\"cas-output-area\"></div>"
      ],
      "text/plain": [
       "[Summary]\n",
       "\n",
       " Descriptive Statistics for STUDENTSPERFORMANCE\n",
       " \n",
       "                                  Column      N\n",
       " parental level of education                   \n",
       " associate's degree           math score  222.0\n",
       " bachelor's degree            math score  118.0\n",
       " high school                  math score  375.0\n",
       " master's degree              math score   59.0\n",
       " some college                 math score  226.0\n",
       "\n"
      ]
     },
     "execution_count": 19,
     "metadata": {},
     "output_type": "execute_result"
    }
   ],
   "source": [
    "castbl['math score'].groupby(['parental level of education']).summary(subset=['n']).concat_bygroups()"
   ]
  },
  {
   "cell_type": "markdown",
   "metadata": {},
   "source": [
    "# Promoting to the Public CAS library"
   ]
  },
  {
   "cell_type": "markdown",
   "metadata": {},
   "source": [
    "Once the data manipulation is completed we can promote the data to the public CAS library.  This allows the data to be accessible by all users who have an active CAS session, including users within SAS Studio and SAS Viya web applications as well as those within Python."
   ]
  },
  {
   "cell_type": "code",
   "execution_count": 20,
   "metadata": {
    "collapsed": false
   },
   "outputs": [
    {
     "data": {
      "text/html": [
       "<div class=\"cas-output-area\"></div>\n",
       "<p class=\"cas-results-performance\"><small><span class=\"cas-elapsed\">elapsed 0.00137s</span> &#183; <span class=\"cas-sys\">sys 0.002s</span> &#183; <span class=\"cas-memory\">mem 0.305MB</span></small></p>"
      ],
      "text/plain": [
       "+ Elapsed: 0.00137s, sys: 0.002s, mem: 0.305mb"
      ]
     },
     "execution_count": 20,
     "metadata": {},
     "output_type": "execute_result"
    }
   ],
   "source": [
    "sess.promote(name=castbl, targetlib='public', target='STUDENTMODIFIED')"
   ]
  },
  {
   "cell_type": "markdown",
   "metadata": {},
   "source": [
    "The fileinfo method can be used to identify a list of tables which are currently available in a CAS library.  This method lists information about the files which are available including the permissions, owner, group and size of each file. "
   ]
  },
  {
   "cell_type": "code",
   "execution_count": 21,
   "metadata": {
    "collapsed": false
   },
   "outputs": [
    {
     "data": {
      "text/html": [
       "<div class=\"cas-results-key\"><b>&#167; FileInfo</b></div>\n",
       "<div class=\"cas-results-body\">\n",
       "<div>\n",
       "<table border=\"1\" class=\"dataframe\">\n",
       "  <thead>\n",
       "    <tr style=\"text-align: right;\">\n",
       "      <th title=\"\"></th>\n",
       "      <th title=\"Permission\">Permission</th>\n",
       "      <th title=\"Owner\">Owner</th>\n",
       "      <th title=\"Group\">Group</th>\n",
       "      <th title=\"Name\">Name</th>\n",
       "      <th title=\"Size of File in Bytes\">Size</th>\n",
       "      <th title=\"Encryption Method\">Encryption</th>\n",
       "      <th title=\"Time\">Time</th>\n",
       "      <th title=\"ModTime\">ModTime</th>\n",
       "    </tr>\n",
       "  </thead>\n",
       "  <tbody>\n",
       "    <tr>\n",
       "      <th>0</th>\n",
       "      <td>-rwxr-xr-x</td>\n",
       "      <td>cas</td>\n",
       "      <td>sas</td>\n",
       "      <td>dispersionzicmp_va.sashdat</td>\n",
       "      <td>103008</td>\n",
       "      <td>NONE</td>\n",
       "      <td>2018-07-18T21:16:59-04:00</td>\n",
       "      <td>1.847582e+09</td>\n",
       "    </tr>\n",
       "    <tr>\n",
       "      <th>1</th>\n",
       "      <td>-rwxr-xr-x</td>\n",
       "      <td>cas</td>\n",
       "      <td>sas</td>\n",
       "      <td>USCOUNTYSHAPEFILES.sashdat</td>\n",
       "      <td>13612856</td>\n",
       "      <td>NONE</td>\n",
       "      <td>2018-07-18T21:17:41-04:00</td>\n",
       "      <td>1.847582e+09</td>\n",
       "    </tr>\n",
       "    <tr>\n",
       "      <th>2</th>\n",
       "      <td>-rwxr-xr-x</td>\n",
       "      <td>cas</td>\n",
       "      <td>sas</td>\n",
       "      <td>donations.sas7bdat</td>\n",
       "      <td>9568256</td>\n",
       "      <td></td>\n",
       "      <td>2018-07-18T21:16:59-04:00</td>\n",
       "      <td>1.847582e+09</td>\n",
       "    </tr>\n",
       "    <tr>\n",
       "      <th>3</th>\n",
       "      <td>-rwxr-xr-x</td>\n",
       "      <td>cas</td>\n",
       "      <td>sas</td>\n",
       "      <td>MINIMUM.sashdat</td>\n",
       "      <td>8752</td>\n",
       "      <td>NONE</td>\n",
       "      <td>2018-07-18T21:17:14-04:00</td>\n",
       "      <td>1.847582e+09</td>\n",
       "    </tr>\n",
       "    <tr>\n",
       "      <th>4</th>\n",
       "      <td>-rwxr-xr-x</td>\n",
       "      <td>cas</td>\n",
       "      <td>sas</td>\n",
       "      <td>articles_va.sashdat</td>\n",
       "      <td>59608</td>\n",
       "      <td>NONE</td>\n",
       "      <td>2018-07-18T21:16:56-04:00</td>\n",
       "      <td>1.847582e+09</td>\n",
       "    </tr>\n",
       "    <tr>\n",
       "      <th>5</th>\n",
       "      <td>-rwxr-xr-x</td>\n",
       "      <td>cas</td>\n",
       "      <td>sas</td>\n",
       "      <td>ZIPWLIST4.sashdat</td>\n",
       "      <td>5089904</td>\n",
       "      <td>NONE</td>\n",
       "      <td>2018-07-18T21:17:43-04:00</td>\n",
       "      <td>1.847582e+09</td>\n",
       "    </tr>\n",
       "    <tr>\n",
       "      <th>6</th>\n",
       "      <td>-rwxr-xr-x</td>\n",
       "      <td>cas</td>\n",
       "      <td>sas</td>\n",
       "      <td>TICKET_SALES_ZIP_SHAPES.sashdat</td>\n",
       "      <td>1241056</td>\n",
       "      <td>NONE</td>\n",
       "      <td>2018-07-18T21:17:40-04:00</td>\n",
       "      <td>1.847582e+09</td>\n",
       "    </tr>\n",
       "    <tr>\n",
       "      <th>7</th>\n",
       "      <td>-rwxr-xr-x</td>\n",
       "      <td>cas</td>\n",
       "      <td>sas</td>\n",
       "      <td>NC_HOUSEPRICE.sashdat</td>\n",
       "      <td>19568</td>\n",
       "      <td>NONE</td>\n",
       "      <td>2018-07-18T21:17:27-04:00</td>\n",
       "      <td>1.847582e+09</td>\n",
       "    </tr>\n",
       "    <tr>\n",
       "      <th>8</th>\n",
       "      <td>-rwxr-xr-x</td>\n",
       "      <td>cas</td>\n",
       "      <td>sas</td>\n",
       "      <td>DISPERSIONCMP_VA_Y1.sashdat</td>\n",
       "      <td>8672</td>\n",
       "      <td>NONE</td>\n",
       "      <td>2018-07-18T21:16:59-04:00</td>\n",
       "      <td>1.847582e+09</td>\n",
       "    </tr>\n",
       "    <tr>\n",
       "      <th>9</th>\n",
       "      <td>-rwxr-xr-x</td>\n",
       "      <td>cas</td>\n",
       "      <td>sas</td>\n",
       "      <td>RETAIL DATA.sashdat</td>\n",
       "      <td>3832632</td>\n",
       "      <td>NONE</td>\n",
       "      <td>2018-07-18T21:17:34-04:00</td>\n",
       "      <td>1.847582e+09</td>\n",
       "    </tr>\n",
       "    <tr>\n",
       "      <th>10</th>\n",
       "      <td>-rwxr-xr-x</td>\n",
       "      <td>cas</td>\n",
       "      <td>sas</td>\n",
       "      <td>TRAVEL TIME BY ZIP.sashdat</td>\n",
       "      <td>9272</td>\n",
       "      <td>NONE</td>\n",
       "      <td>2018-07-18T21:17:40-04:00</td>\n",
       "      <td>1.847582e+09</td>\n",
       "    </tr>\n",
       "    <tr>\n",
       "      <th>11</th>\n",
       "      <td>-rwxr-xr-x</td>\n",
       "      <td>cas</td>\n",
       "      <td>sas</td>\n",
       "      <td>SW_LAKE_RT_SENSOR_WATERQUALITY.sashdat</td>\n",
       "      <td>3435648</td>\n",
       "      <td>NONE</td>\n",
       "      <td>2018-07-18T21:17:37-04:00</td>\n",
       "      <td>1.847582e+09</td>\n",
       "    </tr>\n",
       "    <tr>\n",
       "      <th>12</th>\n",
       "      <td>-rwxr-xr-x</td>\n",
       "      <td>cas</td>\n",
       "      <td>sas</td>\n",
       "      <td>skinproduct_attributes_seg.sas7bdat</td>\n",
       "      <td>393216</td>\n",
       "      <td></td>\n",
       "      <td>2018-07-18T21:17:37-04:00</td>\n",
       "      <td>1.847582e+09</td>\n",
       "    </tr>\n",
       "    <tr>\n",
       "      <th>13</th>\n",
       "      <td>-rwxr-xr-x</td>\n",
       "      <td>cas</td>\n",
       "      <td>sas</td>\n",
       "      <td>LG_FINAL_ABT.sashdat</td>\n",
       "      <td>582796896</td>\n",
       "      <td>NONE</td>\n",
       "      <td>2018-07-18T21:17:03-04:00</td>\n",
       "      <td>1.847582e+09</td>\n",
       "    </tr>\n",
       "    <tr>\n",
       "      <th>14</th>\n",
       "      <td>-rwxr-xr-x</td>\n",
       "      <td>cas</td>\n",
       "      <td>sas</td>\n",
       "      <td>LA_COLISEUM_SEATING_SHAPES.sashdat</td>\n",
       "      <td>95568</td>\n",
       "      <td>NONE</td>\n",
       "      <td>2018-07-18T21:16:59-04:00</td>\n",
       "      <td>1.847582e+09</td>\n",
       "    </tr>\n",
       "    <tr>\n",
       "      <th>15</th>\n",
       "      <td>-rwxr-xr-x</td>\n",
       "      <td>cas</td>\n",
       "      <td>sas</td>\n",
       "      <td>pricedata_10K.sashdat</td>\n",
       "      <td>270751840</td>\n",
       "      <td>NONE</td>\n",
       "      <td>2018-07-18T21:17:29-04:00</td>\n",
       "      <td>1.847582e+09</td>\n",
       "    </tr>\n",
       "    <tr>\n",
       "      <th>16</th>\n",
       "      <td>-rwxr-xr-x</td>\n",
       "      <td>cas</td>\n",
       "      <td>sas</td>\n",
       "      <td>donations_prepped.sas7bdat</td>\n",
       "      <td>10027008</td>\n",
       "      <td></td>\n",
       "      <td>2018-07-31T13:52:27-04:00</td>\n",
       "      <td>1.848679e+09</td>\n",
       "    </tr>\n",
       "    <tr>\n",
       "      <th>17</th>\n",
       "      <td>-rwxr-xr-x</td>\n",
       "      <td>cas</td>\n",
       "      <td>sas</td>\n",
       "      <td>ACME_BANKJUNE2016_1110B.sashdat</td>\n",
       "      <td>237477888</td>\n",
       "      <td>NONE</td>\n",
       "      <td>2018-07-18T21:16:54-04:00</td>\n",
       "      <td>1.847582e+09</td>\n",
       "    </tr>\n",
       "    <tr>\n",
       "      <th>18</th>\n",
       "      <td>-rwxr-xr-x</td>\n",
       "      <td>cas</td>\n",
       "      <td>sas</td>\n",
       "      <td>ZIPWLIST.sashdat</td>\n",
       "      <td>44276928</td>\n",
       "      <td>NONE</td>\n",
       "      <td>2018-07-18T21:17:44-04:00</td>\n",
       "      <td>1.847582e+09</td>\n",
       "    </tr>\n",
       "    <tr>\n",
       "      <th>19</th>\n",
       "      <td>-rwxr-xr-x</td>\n",
       "      <td>cas</td>\n",
       "      <td>sas</td>\n",
       "      <td>dispersioncmp_va.sashdat</td>\n",
       "      <td>103008</td>\n",
       "      <td>NONE</td>\n",
       "      <td>2018-07-18T21:16:59-04:00</td>\n",
       "      <td>1.847582e+09</td>\n",
       "    </tr>\n",
       "    <tr>\n",
       "      <th>20</th>\n",
       "      <td>-rwxr-xr-x</td>\n",
       "      <td>cas</td>\n",
       "      <td>sas</td>\n",
       "      <td>REGIONSBANKING.sashdat</td>\n",
       "      <td>668680</td>\n",
       "      <td>NONE</td>\n",
       "      <td>2018-07-18T21:17:34-04:00</td>\n",
       "      <td>1.847582e+09</td>\n",
       "    </tr>\n",
       "    <tr>\n",
       "      <th>21</th>\n",
       "      <td>-rwxr-xr-x</td>\n",
       "      <td>cas</td>\n",
       "      <td>sas</td>\n",
       "      <td>HANDSET_DAILY_NEW2.sashdat</td>\n",
       "      <td>43088</td>\n",
       "      <td>NONE</td>\n",
       "      <td>2018-07-18T21:16:59-04:00</td>\n",
       "      <td>1.847582e+09</td>\n",
       "    </tr>\n",
       "    <tr>\n",
       "      <th>22</th>\n",
       "      <td>-rwxr-xr-x</td>\n",
       "      <td>cas</td>\n",
       "      <td>sas</td>\n",
       "      <td>FINAL_COMPLETE4.sashdat</td>\n",
       "      <td>696432</td>\n",
       "      <td>NONE</td>\n",
       "      <td>2018-07-18T21:16:59-04:00</td>\n",
       "      <td>1.847582e+09</td>\n",
       "    </tr>\n",
       "    <tr>\n",
       "      <th>23</th>\n",
       "      <td>-rwxr-xr-x</td>\n",
       "      <td>cas</td>\n",
       "      <td>sas</td>\n",
       "      <td>TOWERHANDSET.sashdat</td>\n",
       "      <td>666688</td>\n",
       "      <td>NONE</td>\n",
       "      <td>2018-07-18T21:17:40-04:00</td>\n",
       "      <td>1.847582e+09</td>\n",
       "    </tr>\n",
       "    <tr>\n",
       "      <th>24</th>\n",
       "      <td>-rwxr-xr-x</td>\n",
       "      <td>cas</td>\n",
       "      <td>sas</td>\n",
       "      <td>SOLUTIONNEW.sashdat</td>\n",
       "      <td>11248</td>\n",
       "      <td>NONE</td>\n",
       "      <td>2018-07-18T21:17:37-04:00</td>\n",
       "      <td>1.847582e+09</td>\n",
       "    </tr>\n",
       "    <tr>\n",
       "      <th>25</th>\n",
       "      <td>-rwxr-xr-x</td>\n",
       "      <td>cas</td>\n",
       "      <td>sas</td>\n",
       "      <td>pricedata_attributes_seg.sas7bdat</td>\n",
       "      <td>1048576</td>\n",
       "      <td></td>\n",
       "      <td>2018-07-18T21:17:29-04:00</td>\n",
       "      <td>1.847582e+09</td>\n",
       "    </tr>\n",
       "    <tr>\n",
       "      <th>26</th>\n",
       "      <td>-rwxr-xr-x</td>\n",
       "      <td>cas</td>\n",
       "      <td>sas</td>\n",
       "      <td>SOLUTION2A.sashdat</td>\n",
       "      <td>10160</td>\n",
       "      <td>NONE</td>\n",
       "      <td>2018-07-18T21:17:37-04:00</td>\n",
       "      <td>1.847582e+09</td>\n",
       "    </tr>\n",
       "    <tr>\n",
       "      <th>27</th>\n",
       "      <td>-rwxr-xr-x</td>\n",
       "      <td>cas</td>\n",
       "      <td>sas</td>\n",
       "      <td>SOLUTION2.sashdat</td>\n",
       "      <td>10160</td>\n",
       "      <td>NONE</td>\n",
       "      <td>2018-07-18T21:17:37-04:00</td>\n",
       "      <td>1.847582e+09</td>\n",
       "    </tr>\n",
       "    <tr>\n",
       "      <th>28</th>\n",
       "      <td>-rwxr-xr-x</td>\n",
       "      <td>cas</td>\n",
       "      <td>sas</td>\n",
       "      <td>TECHCONNECT2018GIFTS6.sashdat</td>\n",
       "      <td>363883440</td>\n",
       "      <td>NONE</td>\n",
       "      <td>2018-07-18T21:17:39-04:00</td>\n",
       "      <td>1.847582e+09</td>\n",
       "    </tr>\n",
       "    <tr>\n",
       "      <th>29</th>\n",
       "      <td>-rwxr-xr-x</td>\n",
       "      <td>cas</td>\n",
       "      <td>sas</td>\n",
       "      <td>digital clickstream data.sas7bdat</td>\n",
       "      <td>38469632</td>\n",
       "      <td></td>\n",
       "      <td>2018-07-18T21:16:57-04:00</td>\n",
       "      <td>1.847582e+09</td>\n",
       "    </tr>\n",
       "    <tr>\n",
       "      <th>...</th>\n",
       "      <td>...</td>\n",
       "      <td>...</td>\n",
       "      <td>...</td>\n",
       "      <td>...</td>\n",
       "      <td>...</td>\n",
       "      <td>...</td>\n",
       "      <td>...</td>\n",
       "      <td>...</td>\n",
       "    </tr>\n",
       "    <tr>\n",
       "      <th>59</th>\n",
       "      <td>-rwxr-xr-x</td>\n",
       "      <td>cas</td>\n",
       "      <td>sas</td>\n",
       "      <td>SITE_HH_NEW2.sashdat</td>\n",
       "      <td>172030192</td>\n",
       "      <td>NONE</td>\n",
       "      <td>2018-07-18T21:17:37-04:00</td>\n",
       "      <td>1.847582e+09</td>\n",
       "    </tr>\n",
       "    <tr>\n",
       "      <th>60</th>\n",
       "      <td>-rwxr-xr-x</td>\n",
       "      <td>cas</td>\n",
       "      <td>sas</td>\n",
       "      <td>DIGITAL_CLICKSTREAM_DATA_US.sashdat</td>\n",
       "      <td>26094768</td>\n",
       "      <td>NONE</td>\n",
       "      <td>2018-07-18T21:16:59-04:00</td>\n",
       "      <td>1.847582e+09</td>\n",
       "    </tr>\n",
       "    <tr>\n",
       "      <th>61</th>\n",
       "      <td>-rwxr-xr-x</td>\n",
       "      <td>cas</td>\n",
       "      <td>sas</td>\n",
       "      <td>digital_clickstream_data.sas7bdat</td>\n",
       "      <td>38469632</td>\n",
       "      <td></td>\n",
       "      <td>2018-07-18T21:16:58-04:00</td>\n",
       "      <td>1.847582e+09</td>\n",
       "    </tr>\n",
       "    <tr>\n",
       "      <th>62</th>\n",
       "      <td>-rwxr-xr-x</td>\n",
       "      <td>cas</td>\n",
       "      <td>sas</td>\n",
       "      <td>TRAVEL TIME BY ZIP CODE.sashdat</td>\n",
       "      <td>9272</td>\n",
       "      <td>NONE</td>\n",
       "      <td>2018-07-18T21:17:40-04:00</td>\n",
       "      <td>1.847582e+09</td>\n",
       "    </tr>\n",
       "    <tr>\n",
       "      <th>63</th>\n",
       "      <td>-rwxr-xr-x</td>\n",
       "      <td>cas</td>\n",
       "      <td>sas</td>\n",
       "      <td>predef_svrtdist.sashdat</td>\n",
       "      <td>78872</td>\n",
       "      <td>NONE</td>\n",
       "      <td>2019-03-14T02:18:37-04:00</td>\n",
       "      <td>1.868164e+09</td>\n",
       "    </tr>\n",
       "    <tr>\n",
       "      <th>64</th>\n",
       "      <td>-rwxr-xr-x</td>\n",
       "      <td>cas</td>\n",
       "      <td>sas</td>\n",
       "      <td>TICKET_SALES.sashdat</td>\n",
       "      <td>5852528</td>\n",
       "      <td>NONE</td>\n",
       "      <td>2018-07-18T21:17:40-04:00</td>\n",
       "      <td>1.847582e+09</td>\n",
       "    </tr>\n",
       "    <tr>\n",
       "      <th>65</th>\n",
       "      <td>-rwxr-xr-x</td>\n",
       "      <td>cas</td>\n",
       "      <td>sas</td>\n",
       "      <td>skinproduct.sashdat</td>\n",
       "      <td>15325448</td>\n",
       "      <td>NONE</td>\n",
       "      <td>2018-07-18T21:17:37-04:00</td>\n",
       "      <td>1.847582e+09</td>\n",
       "    </tr>\n",
       "    <tr>\n",
       "      <th>66</th>\n",
       "      <td>-rwxr-xr-x</td>\n",
       "      <td>cas</td>\n",
       "      <td>sas</td>\n",
       "      <td>outFor3_va.sashdat</td>\n",
       "      <td>12928</td>\n",
       "      <td>NONE</td>\n",
       "      <td>2018-07-18T21:17:27-04:00</td>\n",
       "      <td>1.847582e+09</td>\n",
       "    </tr>\n",
       "    <tr>\n",
       "      <th>67</th>\n",
       "      <td>-rwxr-xr-x</td>\n",
       "      <td>cas</td>\n",
       "      <td>sas</td>\n",
       "      <td>GROUPOFPOLICIES.sashdat</td>\n",
       "      <td>9296</td>\n",
       "      <td>NONE</td>\n",
       "      <td>2018-07-18T21:16:59-04:00</td>\n",
       "      <td>1.847582e+09</td>\n",
       "    </tr>\n",
       "    <tr>\n",
       "      <th>68</th>\n",
       "      <td>-rwxr-xr-x</td>\n",
       "      <td>cas</td>\n",
       "      <td>sas</td>\n",
       "      <td>LOOKINGGLASS_FORECAST.sashdat</td>\n",
       "      <td>13833568</td>\n",
       "      <td>NONE</td>\n",
       "      <td>2018-07-18T21:17:11-04:00</td>\n",
       "      <td>1.847582e+09</td>\n",
       "    </tr>\n",
       "    <tr>\n",
       "      <th>69</th>\n",
       "      <td>-rwxr-xr-x</td>\n",
       "      <td>cas</td>\n",
       "      <td>sas</td>\n",
       "      <td>PROJECT 1_OUTFOR.sashdat</td>\n",
       "      <td>8208336</td>\n",
       "      <td>NONE</td>\n",
       "      <td>2018-07-18T21:17:31-04:00</td>\n",
       "      <td>1.847582e+09</td>\n",
       "    </tr>\n",
       "    <tr>\n",
       "      <th>70</th>\n",
       "      <td>-rwxr-xr-x</td>\n",
       "      <td>cas</td>\n",
       "      <td>sas</td>\n",
       "      <td>SP500.sashdat</td>\n",
       "      <td>724000</td>\n",
       "      <td>NONE</td>\n",
       "      <td>2018-07-18T21:17:37-04:00</td>\n",
       "      <td>1.847582e+09</td>\n",
       "    </tr>\n",
       "    <tr>\n",
       "      <th>71</th>\n",
       "      <td>-rwxr-xr-x</td>\n",
       "      <td>cas</td>\n",
       "      <td>sas</td>\n",
       "      <td>JUL 17 OSC ERP MONTHLY STATS.sashdat</td>\n",
       "      <td>30672</td>\n",
       "      <td>NONE</td>\n",
       "      <td>2018-07-18T21:16:59-04:00</td>\n",
       "      <td>1.847582e+09</td>\n",
       "    </tr>\n",
       "    <tr>\n",
       "      <th>72</th>\n",
       "      <td>-rwxr-xr-x</td>\n",
       "      <td>cas</td>\n",
       "      <td>sas</td>\n",
       "      <td>test_vf Pipeline 2 Output Data.sashdat</td>\n",
       "      <td>7679680</td>\n",
       "      <td>NONE</td>\n",
       "      <td>2018-07-18T21:17:40-04:00</td>\n",
       "      <td>1.847582e+09</td>\n",
       "    </tr>\n",
       "    <tr>\n",
       "      <th>73</th>\n",
       "      <td>-rwxr-xr-x</td>\n",
       "      <td>cas</td>\n",
       "      <td>sas</td>\n",
       "      <td>NCCOUNTY_MAP.sashdat</td>\n",
       "      <td>437069272</td>\n",
       "      <td>NONE</td>\n",
       "      <td>2018-07-18T21:17:27-04:00</td>\n",
       "      <td>1.847582e+09</td>\n",
       "    </tr>\n",
       "    <tr>\n",
       "      <th>74</th>\n",
       "      <td>-rwxr-xr-x</td>\n",
       "      <td>cas</td>\n",
       "      <td>sas</td>\n",
       "      <td>dispersion_va.sashdat</td>\n",
       "      <td>103008</td>\n",
       "      <td>NONE</td>\n",
       "      <td>2018-07-18T21:16:59-04:00</td>\n",
       "      <td>1.847582e+09</td>\n",
       "    </tr>\n",
       "    <tr>\n",
       "      <th>75</th>\n",
       "      <td>-rwxr-xr-x</td>\n",
       "      <td>cas</td>\n",
       "      <td>sas</td>\n",
       "      <td>DISPERSIONZICMP_VA_Y1.sashdat</td>\n",
       "      <td>8672</td>\n",
       "      <td>NONE</td>\n",
       "      <td>2018-07-18T21:16:59-04:00</td>\n",
       "      <td>1.847582e+09</td>\n",
       "    </tr>\n",
       "    <tr>\n",
       "      <th>76</th>\n",
       "      <td>-rwxr-xr-x</td>\n",
       "      <td>cas</td>\n",
       "      <td>sas</td>\n",
       "      <td>SHORTPATHP.sashdat</td>\n",
       "      <td>11888</td>\n",
       "      <td>NONE</td>\n",
       "      <td>2018-07-18T21:17:34-04:00</td>\n",
       "      <td>1.847582e+09</td>\n",
       "    </tr>\n",
       "    <tr>\n",
       "      <th>77</th>\n",
       "      <td>-rwxr-xr-x</td>\n",
       "      <td>cas</td>\n",
       "      <td>sas</td>\n",
       "      <td>outFor_va.sashdat</td>\n",
       "      <td>142760</td>\n",
       "      <td>NONE</td>\n",
       "      <td>2018-07-18T21:17:27-04:00</td>\n",
       "      <td>1.847582e+09</td>\n",
       "    </tr>\n",
       "    <tr>\n",
       "      <th>78</th>\n",
       "      <td>-rwxr-xr-x</td>\n",
       "      <td>cas</td>\n",
       "      <td>sas</td>\n",
       "      <td>simulatedarticles_va.sashdat</td>\n",
       "      <td>110848</td>\n",
       "      <td>NONE</td>\n",
       "      <td>2018-07-18T21:17:34-04:00</td>\n",
       "      <td>1.847582e+09</td>\n",
       "    </tr>\n",
       "    <tr>\n",
       "      <th>79</th>\n",
       "      <td>-rwxr-xr-x</td>\n",
       "      <td>cas</td>\n",
       "      <td>sas</td>\n",
       "      <td>LG_CUSTOMER.sashdat</td>\n",
       "      <td>14641192</td>\n",
       "      <td>NONE</td>\n",
       "      <td>2018-07-18T21:17:00-04:00</td>\n",
       "      <td>1.847582e+09</td>\n",
       "    </tr>\n",
       "    <tr>\n",
       "      <th>80</th>\n",
       "      <td>-rwxr-xr-x</td>\n",
       "      <td>cas</td>\n",
       "      <td>sas</td>\n",
       "      <td>SOLUTIONSPARSE.sashdat</td>\n",
       "      <td>9904</td>\n",
       "      <td>NONE</td>\n",
       "      <td>2018-07-18T21:17:37-04:00</td>\n",
       "      <td>1.847582e+09</td>\n",
       "    </tr>\n",
       "    <tr>\n",
       "      <th>81</th>\n",
       "      <td>-rwxr-xr-x</td>\n",
       "      <td>cas</td>\n",
       "      <td>sas</td>\n",
       "      <td>WATER_CLUSTER.sashdat</td>\n",
       "      <td>13838944</td>\n",
       "      <td>NONE</td>\n",
       "      <td>2018-07-18T21:17:43-04:00</td>\n",
       "      <td>1.847582e+09</td>\n",
       "    </tr>\n",
       "    <tr>\n",
       "      <th>82</th>\n",
       "      <td>-rwxr-xr-x</td>\n",
       "      <td>cas</td>\n",
       "      <td>sas</td>\n",
       "      <td>SOLUTION3.sashdat</td>\n",
       "      <td>10160</td>\n",
       "      <td>NONE</td>\n",
       "      <td>2018-07-18T21:17:37-04:00</td>\n",
       "      <td>1.847582e+09</td>\n",
       "    </tr>\n",
       "    <tr>\n",
       "      <th>83</th>\n",
       "      <td>-rwxr-xr-x</td>\n",
       "      <td>cas</td>\n",
       "      <td>sas</td>\n",
       "      <td>HOLIDAY.sashdat</td>\n",
       "      <td>11248</td>\n",
       "      <td>NONE</td>\n",
       "      <td>2018-07-18T21:16:59-04:00</td>\n",
       "      <td>1.847582e+09</td>\n",
       "    </tr>\n",
       "    <tr>\n",
       "      <th>84</th>\n",
       "      <td>-rwxr-xr-x</td>\n",
       "      <td>cas</td>\n",
       "      <td>sas</td>\n",
       "      <td>skinproduct_attributes.sashdat</td>\n",
       "      <td>316656</td>\n",
       "      <td>NONE</td>\n",
       "      <td>2018-07-18T21:17:37-04:00</td>\n",
       "      <td>1.847582e+09</td>\n",
       "    </tr>\n",
       "    <tr>\n",
       "      <th>85</th>\n",
       "      <td>-rwxr-xr-x</td>\n",
       "      <td>cas</td>\n",
       "      <td>sas</td>\n",
       "      <td>LOOKING_GLASS_V4.sashdat</td>\n",
       "      <td>313772696</td>\n",
       "      <td>NONE</td>\n",
       "      <td>2018-07-18T21:17:14-04:00</td>\n",
       "      <td>1.847582e+09</td>\n",
       "    </tr>\n",
       "    <tr>\n",
       "      <th>86</th>\n",
       "      <td>-rwxr-xr-x</td>\n",
       "      <td>cas</td>\n",
       "      <td>sas</td>\n",
       "      <td>LGSALES_ATTRIBUTESF.sashdat</td>\n",
       "      <td>74464</td>\n",
       "      <td>NONE</td>\n",
       "      <td>2018-07-18T21:17:11-04:00</td>\n",
       "      <td>1.847582e+09</td>\n",
       "    </tr>\n",
       "    <tr>\n",
       "      <th>87</th>\n",
       "      <td>-rwxr-xr-x</td>\n",
       "      <td>cas</td>\n",
       "      <td>sas</td>\n",
       "      <td>WARRANTY_CLAIMS_0117.sashdat</td>\n",
       "      <td>164285472</td>\n",
       "      <td>NONE</td>\n",
       "      <td>2018-07-18T21:17:43-04:00</td>\n",
       "      <td>1.847582e+09</td>\n",
       "    </tr>\n",
       "    <tr>\n",
       "      <th>88</th>\n",
       "      <td>-rwxr-xr-x</td>\n",
       "      <td>cas</td>\n",
       "      <td>sas</td>\n",
       "      <td>pricedata_attributes.sashdat</td>\n",
       "      <td>973584</td>\n",
       "      <td>NONE</td>\n",
       "      <td>2018-07-18T21:17:29-04:00</td>\n",
       "      <td>1.847582e+09</td>\n",
       "    </tr>\n",
       "  </tbody>\n",
       "</table>\n",
       "<p>89 rows × 8 columns</p>\n",
       "</div>\n",
       "</div>\n",
       "<div class=\"cas-output-area\"></div>\n",
       "<p class=\"cas-results-performance\"><small><span class=\"cas-elapsed\">elapsed 0.00846s</span> &#183; <span class=\"cas-user\">user 0.009s</span> &#183; <span class=\"cas-memory\">mem 0.705MB</span></small></p>"
      ],
      "text/plain": [
       "[FileInfo]\n",
       "\n",
       "     Permission Owner Group                                    Name       Size  \\\n",
       " 0   -rwxr-xr-x   cas   sas              dispersionzicmp_va.sashdat     103008   \n",
       " 1   -rwxr-xr-x   cas   sas              USCOUNTYSHAPEFILES.sashdat   13612856   \n",
       " 2   -rwxr-xr-x   cas   sas                      donations.sas7bdat    9568256   \n",
       " 3   -rwxr-xr-x   cas   sas                         MINIMUM.sashdat       8752   \n",
       " 4   -rwxr-xr-x   cas   sas                     articles_va.sashdat      59608   \n",
       " 5   -rwxr-xr-x   cas   sas                       ZIPWLIST4.sashdat    5089904   \n",
       " 6   -rwxr-xr-x   cas   sas         TICKET_SALES_ZIP_SHAPES.sashdat    1241056   \n",
       " 7   -rwxr-xr-x   cas   sas                   NC_HOUSEPRICE.sashdat      19568   \n",
       " 8   -rwxr-xr-x   cas   sas             DISPERSIONCMP_VA_Y1.sashdat       8672   \n",
       " 9   -rwxr-xr-x   cas   sas                     RETAIL DATA.sashdat    3832632   \n",
       " 10  -rwxr-xr-x   cas   sas              TRAVEL TIME BY ZIP.sashdat       9272   \n",
       " 11  -rwxr-xr-x   cas   sas  SW_LAKE_RT_SENSOR_WATERQUALITY.sashdat    3435648   \n",
       " 12  -rwxr-xr-x   cas   sas     skinproduct_attributes_seg.sas7bdat     393216   \n",
       " 13  -rwxr-xr-x   cas   sas                    LG_FINAL_ABT.sashdat  582796896   \n",
       " 14  -rwxr-xr-x   cas   sas      LA_COLISEUM_SEATING_SHAPES.sashdat      95568   \n",
       " 15  -rwxr-xr-x   cas   sas                   pricedata_10K.sashdat  270751840   \n",
       " 16  -rwxr-xr-x   cas   sas              donations_prepped.sas7bdat   10027008   \n",
       " 17  -rwxr-xr-x   cas   sas         ACME_BANKJUNE2016_1110B.sashdat  237477888   \n",
       " 18  -rwxr-xr-x   cas   sas                        ZIPWLIST.sashdat   44276928   \n",
       " 19  -rwxr-xr-x   cas   sas                dispersioncmp_va.sashdat     103008   \n",
       " 20  -rwxr-xr-x   cas   sas                  REGIONSBANKING.sashdat     668680   \n",
       " 21  -rwxr-xr-x   cas   sas              HANDSET_DAILY_NEW2.sashdat      43088   \n",
       " 22  -rwxr-xr-x   cas   sas                 FINAL_COMPLETE4.sashdat     696432   \n",
       " 23  -rwxr-xr-x   cas   sas                    TOWERHANDSET.sashdat     666688   \n",
       " 24  -rwxr-xr-x   cas   sas                     SOLUTIONNEW.sashdat      11248   \n",
       " 25  -rwxr-xr-x   cas   sas       pricedata_attributes_seg.sas7bdat    1048576   \n",
       " 26  -rwxr-xr-x   cas   sas                      SOLUTION2A.sashdat      10160   \n",
       " 27  -rwxr-xr-x   cas   sas                       SOLUTION2.sashdat      10160   \n",
       " 28  -rwxr-xr-x   cas   sas           TECHCONNECT2018GIFTS6.sashdat  363883440   \n",
       " 29  -rwxr-xr-x   cas   sas       digital clickstream data.sas7bdat   38469632   \n",
       " ..         ...   ...   ...                                     ...        ...   \n",
       " 59  -rwxr-xr-x   cas   sas                    SITE_HH_NEW2.sashdat  172030192   \n",
       " 60  -rwxr-xr-x   cas   sas     DIGITAL_CLICKSTREAM_DATA_US.sashdat   26094768   \n",
       " 61  -rwxr-xr-x   cas   sas       digital_clickstream_data.sas7bdat   38469632   \n",
       " 62  -rwxr-xr-x   cas   sas         TRAVEL TIME BY ZIP CODE.sashdat       9272   \n",
       " 63  -rwxr-xr-x   cas   sas                 predef_svrtdist.sashdat      78872   \n",
       " 64  -rwxr-xr-x   cas   sas                    TICKET_SALES.sashdat    5852528   \n",
       " 65  -rwxr-xr-x   cas   sas                     skinproduct.sashdat   15325448   \n",
       " 66  -rwxr-xr-x   cas   sas                      outFor3_va.sashdat      12928   \n",
       " 67  -rwxr-xr-x   cas   sas                 GROUPOFPOLICIES.sashdat       9296   \n",
       " 68  -rwxr-xr-x   cas   sas           LOOKINGGLASS_FORECAST.sashdat   13833568   \n",
       " 69  -rwxr-xr-x   cas   sas                PROJECT 1_OUTFOR.sashdat    8208336   \n",
       " 70  -rwxr-xr-x   cas   sas                           SP500.sashdat     724000   \n",
       " 71  -rwxr-xr-x   cas   sas    JUL 17 OSC ERP MONTHLY STATS.sashdat      30672   \n",
       " 72  -rwxr-xr-x   cas   sas  test_vf Pipeline 2 Output Data.sashdat    7679680   \n",
       " 73  -rwxr-xr-x   cas   sas                    NCCOUNTY_MAP.sashdat  437069272   \n",
       " 74  -rwxr-xr-x   cas   sas                   dispersion_va.sashdat     103008   \n",
       " 75  -rwxr-xr-x   cas   sas           DISPERSIONZICMP_VA_Y1.sashdat       8672   \n",
       " 76  -rwxr-xr-x   cas   sas                      SHORTPATHP.sashdat      11888   \n",
       " 77  -rwxr-xr-x   cas   sas                       outFor_va.sashdat     142760   \n",
       " 78  -rwxr-xr-x   cas   sas            simulatedarticles_va.sashdat     110848   \n",
       " 79  -rwxr-xr-x   cas   sas                     LG_CUSTOMER.sashdat   14641192   \n",
       " 80  -rwxr-xr-x   cas   sas                  SOLUTIONSPARSE.sashdat       9904   \n",
       " 81  -rwxr-xr-x   cas   sas                   WATER_CLUSTER.sashdat   13838944   \n",
       " 82  -rwxr-xr-x   cas   sas                       SOLUTION3.sashdat      10160   \n",
       " 83  -rwxr-xr-x   cas   sas                         HOLIDAY.sashdat      11248   \n",
       " 84  -rwxr-xr-x   cas   sas          skinproduct_attributes.sashdat     316656   \n",
       " 85  -rwxr-xr-x   cas   sas                LOOKING_GLASS_V4.sashdat  313772696   \n",
       " 86  -rwxr-xr-x   cas   sas             LGSALES_ATTRIBUTESF.sashdat      74464   \n",
       " 87  -rwxr-xr-x   cas   sas            WARRANTY_CLAIMS_0117.sashdat  164285472   \n",
       " 88  -rwxr-xr-x   cas   sas            pricedata_attributes.sashdat     973584   \n",
       " \n",
       "    Encryption                       Time       ModTime  \n",
       " 0        NONE  2018-07-18T21:16:59-04:00  1.847582e+09  \n",
       " 1        NONE  2018-07-18T21:17:41-04:00  1.847582e+09  \n",
       " 2              2018-07-18T21:16:59-04:00  1.847582e+09  \n",
       " 3        NONE  2018-07-18T21:17:14-04:00  1.847582e+09  \n",
       " 4        NONE  2018-07-18T21:16:56-04:00  1.847582e+09  \n",
       " 5        NONE  2018-07-18T21:17:43-04:00  1.847582e+09  \n",
       " 6        NONE  2018-07-18T21:17:40-04:00  1.847582e+09  \n",
       " 7        NONE  2018-07-18T21:17:27-04:00  1.847582e+09  \n",
       " 8        NONE  2018-07-18T21:16:59-04:00  1.847582e+09  \n",
       " 9        NONE  2018-07-18T21:17:34-04:00  1.847582e+09  \n",
       " 10       NONE  2018-07-18T21:17:40-04:00  1.847582e+09  \n",
       " 11       NONE  2018-07-18T21:17:37-04:00  1.847582e+09  \n",
       " 12             2018-07-18T21:17:37-04:00  1.847582e+09  \n",
       " 13       NONE  2018-07-18T21:17:03-04:00  1.847582e+09  \n",
       " 14       NONE  2018-07-18T21:16:59-04:00  1.847582e+09  \n",
       " 15       NONE  2018-07-18T21:17:29-04:00  1.847582e+09  \n",
       " 16             2018-07-31T13:52:27-04:00  1.848679e+09  \n",
       " 17       NONE  2018-07-18T21:16:54-04:00  1.847582e+09  \n",
       " 18       NONE  2018-07-18T21:17:44-04:00  1.847582e+09  \n",
       " 19       NONE  2018-07-18T21:16:59-04:00  1.847582e+09  \n",
       " 20       NONE  2018-07-18T21:17:34-04:00  1.847582e+09  \n",
       " 21       NONE  2018-07-18T21:16:59-04:00  1.847582e+09  \n",
       " 22       NONE  2018-07-18T21:16:59-04:00  1.847582e+09  \n",
       " 23       NONE  2018-07-18T21:17:40-04:00  1.847582e+09  \n",
       " 24       NONE  2018-07-18T21:17:37-04:00  1.847582e+09  \n",
       " 25             2018-07-18T21:17:29-04:00  1.847582e+09  \n",
       " 26       NONE  2018-07-18T21:17:37-04:00  1.847582e+09  \n",
       " 27       NONE  2018-07-18T21:17:37-04:00  1.847582e+09  \n",
       " 28       NONE  2018-07-18T21:17:39-04:00  1.847582e+09  \n",
       " 29             2018-07-18T21:16:57-04:00  1.847582e+09  \n",
       " ..        ...                        ...           ...  \n",
       " 59       NONE  2018-07-18T21:17:37-04:00  1.847582e+09  \n",
       " 60       NONE  2018-07-18T21:16:59-04:00  1.847582e+09  \n",
       " 61             2018-07-18T21:16:58-04:00  1.847582e+09  \n",
       " 62       NONE  2018-07-18T21:17:40-04:00  1.847582e+09  \n",
       " 63       NONE  2019-03-14T02:18:37-04:00  1.868164e+09  \n",
       " 64       NONE  2018-07-18T21:17:40-04:00  1.847582e+09  \n",
       " 65       NONE  2018-07-18T21:17:37-04:00  1.847582e+09  \n",
       " 66       NONE  2018-07-18T21:17:27-04:00  1.847582e+09  \n",
       " 67       NONE  2018-07-18T21:16:59-04:00  1.847582e+09  \n",
       " 68       NONE  2018-07-18T21:17:11-04:00  1.847582e+09  \n",
       " 69       NONE  2018-07-18T21:17:31-04:00  1.847582e+09  \n",
       " 70       NONE  2018-07-18T21:17:37-04:00  1.847582e+09  \n",
       " 71       NONE  2018-07-18T21:16:59-04:00  1.847582e+09  \n",
       " 72       NONE  2018-07-18T21:17:40-04:00  1.847582e+09  \n",
       " 73       NONE  2018-07-18T21:17:27-04:00  1.847582e+09  \n",
       " 74       NONE  2018-07-18T21:16:59-04:00  1.847582e+09  \n",
       " 75       NONE  2018-07-18T21:16:59-04:00  1.847582e+09  \n",
       " 76       NONE  2018-07-18T21:17:34-04:00  1.847582e+09  \n",
       " 77       NONE  2018-07-18T21:17:27-04:00  1.847582e+09  \n",
       " 78       NONE  2018-07-18T21:17:34-04:00  1.847582e+09  \n",
       " 79       NONE  2018-07-18T21:17:00-04:00  1.847582e+09  \n",
       " 80       NONE  2018-07-18T21:17:37-04:00  1.847582e+09  \n",
       " 81       NONE  2018-07-18T21:17:43-04:00  1.847582e+09  \n",
       " 82       NONE  2018-07-18T21:17:37-04:00  1.847582e+09  \n",
       " 83       NONE  2018-07-18T21:16:59-04:00  1.847582e+09  \n",
       " 84       NONE  2018-07-18T21:17:37-04:00  1.847582e+09  \n",
       " 85       NONE  2018-07-18T21:17:14-04:00  1.847582e+09  \n",
       " 86       NONE  2018-07-18T21:17:11-04:00  1.847582e+09  \n",
       " 87       NONE  2018-07-18T21:17:43-04:00  1.847582e+09  \n",
       " 88       NONE  2018-07-18T21:17:29-04:00  1.847582e+09  \n",
       " \n",
       " [89 rows x 8 columns]\n",
       "\n",
       "+ Elapsed: 0.00846s, user: 0.009s, mem: 0.705mb"
      ]
     },
     "execution_count": 21,
     "metadata": {},
     "output_type": "execute_result"
    }
   ],
   "source": [
    "sess.fileinfo(caslib='public')"
   ]
  },
  {
   "cell_type": "markdown",
   "metadata": {},
   "source": [
    "To work on a CAS table within Python that is available from another CAS library a CASTable statement needs to be run."
   ]
  },
  {
   "cell_type": "code",
   "execution_count": 22,
   "metadata": {
    "collapsed": false
   },
   "outputs": [],
   "source": [
    "casstumod = sess.CASTable(name='STUDENTMODIFIED', caslib='public')"
   ]
  },
  {
   "cell_type": "markdown",
   "metadata": {},
   "source": [
    "This allows us to use the casstumod Python object to reference the public CAS Table.  To verify that the connection is successful, the info method displays the CAS table name and the CAS library for the CAS table."
   ]
  },
  {
   "cell_type": "code",
   "execution_count": 23,
   "metadata": {
    "collapsed": false
   },
   "outputs": [
    {
     "name": "stdout",
     "output_type": "stream",
     "text": [
      "CASTable('STUDENTMODIFIED', caslib='public')\n",
      "Data columns (total 9 columns):\n",
      "                                N   Miss     Type\n",
      "gender                       1000  False  varchar\n",
      "race/ethnicity               1000  False  varchar\n",
      "parental level of education  1000  False  varchar\n",
      "lunch                        1000  False  varchar\n",
      "test preparation course      1000  False  varchar\n",
      "math score                   1000  False   double\n",
      "reading score                1000  False   double\n",
      "writing score                1000  False   double\n",
      "nan                             0   True   double\n",
      "dtypes: double(4), varchar(5)\n",
      "data size: 144144\n",
      "vardata size: 32144\n",
      "memory usage: 0\n"
     ]
    }
   ],
   "source": [
    "casstumod.info()"
   ]
  },
  {
   "cell_type": "markdown",
   "metadata": {},
   "source": [
    "# Data Visualization"
   ]
  },
  {
   "cell_type": "markdown",
   "metadata": {},
   "source": [
    "Python contains many methods to create visualizations and models using Python packages.  All visualizations within this section are completed using CAS actions which are available through SWAT and matplotlib functionality."
   ]
  },
  {
   "cell_type": "markdown",
   "metadata": {},
   "source": [
    "## Box Plot"
   ]
  },
  {
   "cell_type": "markdown",
   "metadata": {},
   "source": [
    "To create a box plot within Python the boxplot method can be used on the public CAS table.  This has a required argument to provide the column which is to be used for the analysis.  "
   ]
  },
  {
   "cell_type": "code",
   "execution_count": 24,
   "metadata": {
    "collapsed": false
   },
   "outputs": [
    {
     "data": {
      "image/png": "[encoded data removed]",
      "text/plain": [
       "<matplotlib.figure.Figure at 0x7ff5b221d5f8>"
      ]
     },
     "metadata": {},
     "output_type": "display_data"
    }
   ],
   "source": [
    "casstumod.boxplot(column='math score', by='parental level of education', figsize=(15,9))\n",
    "plt.show()"
   ]
  },
  {
   "cell_type": "markdown",
   "metadata": {},
   "source": [
    "As the default box plots created are not the most visually appealing, a range of options are available to Python users.  Options can be added using patch_artist, which allows users to modify the coloring and line widths of the box plots.  In the following example the linewidth has been increased.  Including the patch_artist option fills the background of the box in, making the box plot stand out more from the axis.  It is also possible to add a custom title to the chart using the suptitle option."
   ]
  },
  {
   "cell_type": "code",
   "execution_count": 25,
   "metadata": {
    "collapsed": false
   },
   "outputs": [
    {
     "data": {
      "image/png": "[encoded data removed]",
      "text/plain": [
       "<matplotlib.figure.Figure at 0x7ff5b1f17320>"
      ]
     },
     "metadata": {},
     "output_type": "display_data"
    }
   ],
   "source": [
    "casstumod.boxplot(column='math score', by='parental level of education', patch_artist=True, capprops=dict(linewidth=2), \n",
    "               whiskerprops=dict(linewidth=2), medianprops=dict(linewidth=2), figsize=(15,9))\n",
    "plt.suptitle('Math Score by Parental level of education')\n",
    "plt.show()"
   ]
  },
  {
   "cell_type": "markdown",
   "metadata": {},
   "source": [
    "## Scatter Plot "
   ]
  },
  {
   "cell_type": "markdown",
   "metadata": {},
   "source": [
    "To create a scatter plot within Python the plot method is used on the CAS table.  The syntax includes an x-axis variable, y-axis variable and the type of plot which we would like to create.  In addition to this, options have been added to choose a color for the plot and figsize to increase the size of the plot.  Finally, a title can be added.  "
   ]
  },
  {
   "cell_type": "code",
   "execution_count": 26,
   "metadata": {
    "collapsed": false
   },
   "outputs": [
    {
     "data": {
      "image/png": "[encoded data removed]",
      "text/plain": [
       "<matplotlib.figure.Figure at 0x7ff5b25a24e0>"
      ]
     },
     "metadata": {},
     "output_type": "display_data"
    }
   ],
   "source": [
    "casstumod.plot(x='writing score', y='reading score', kind='scatter', figsize=(15,9), color='teal', )\n",
    "plt.title('Reading Scores Vs Writing Scores')\n",
    "plt.show()"
   ]
  },
  {
   "cell_type": "code",
   "execution_count": 27,
   "metadata": {
    "collapsed": false
   },
   "outputs": [],
   "source": [
    "sess.terminate()"
   ]
  },
  {
   "cell_type": "code",
   "execution_count": null,
   "metadata": {
    "collapsed": true
   },
   "outputs": [],
   "source": []
  }
 ],
 "metadata": {
  "kernelspec": {
   "display_name": "Python 3",
   "language": "python",
   "name": "python3"
  },
  "language_info": {
   "codemirror_mode": {
    "name": "ipython",
    "version": 3
   },
   "file_extension": ".py",
   "mimetype": "text/x-python",
   "name": "python",
   "nbconvert_exporter": "python",
   "pygments_lexer": "ipython3",
   "version": "3.6.0"
  }
 },
 "nbformat": 4,
 "nbformat_minor": 2
}
